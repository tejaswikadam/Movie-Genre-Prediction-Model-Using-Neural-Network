{
  "nbformat": 4,
  "nbformat_minor": 0,
  "metadata": {
    "colab": {
      "name": "DataCleaning.ipynb",
      "provenance": [],
      "collapsed_sections": [],
      "toc_visible": true,
      "machine_shape": "hm"
    },
    "kernelspec": {
      "name": "python3",
      "display_name": "Python 3"
    },
    "accelerator": "GPU"
  },
  "cells": [
    {
      "cell_type": "code",
      "metadata": {
        "colab": {
          "base_uri": "https://localhost:8080/"
        },
        "id": "-MGSebQgpDzA",
        "outputId": "4590897b-2384-45ba-ebcb-56a82edbf6ec"
      },
      "source": [
        "from google.colab import drive\n",
        "drive.mount('/content/drive')"
      ],
      "execution_count": null,
      "outputs": [
        {
          "output_type": "stream",
          "text": [
            "Mounted at /content/drive\n"
          ],
          "name": "stdout"
        }
      ]
    },
    {
      "cell_type": "code",
      "metadata": {
        "id": "2gETNwoRJlox"
      },
      "source": [
        "# import libraries \n",
        "\n",
        "import time\n",
        "import numpy as np\n",
        "import pandas as pd\n",
        "import os\n",
        "import pickle as pkl\n",
        "from matplotlib import pyplot as plt\n",
        "from collections import defaultdict\n",
        "import nltk\n",
        "import re\n",
        "import json\n",
        "import csv\n",
        "import seaborn as sns\n",
        "from tqdm import tqdm\n",
        "from nltk.stem import WordNetLemmatizer\n",
        "from nltk.corpus import wordnet\n",
        "from nltk import sent_tokenize\n",
        "from nltk.tokenize import word_tokenize\n",
        "\n",
        "from collections import Counter\n",
        "\n",
        "%matplotlib inline\n",
        "pd.set_option('display.max_colwidth', 300)\n",
        "\n",
        "from keras.preprocessing.text import Tokenizer, text_to_word_sequence\n",
        "from keras.preprocessing.sequence import pad_sequences\n",
        "from keras.utils.np_utils import to_categorical\n",
        "from keras.optimizers import SGD\n",
        "from keras.models import load_model\n",
        "\n",
        "from keras.layers import Embedding\n",
        "from keras.layers import Dense, Input, Flatten, Lambda\n",
        "from keras.layers import Conv1D, MaxPooling1D, Embedding, Dropout, LSTM, GRU, Bidirectional, TimeDistributed\n",
        "from keras.models import Model, load_model\n",
        "\n",
        "from keras import backend as K\n",
        "from keras.engine.topology import Layer, InputSpec\n",
        "from keras import initializers, regularizers, optimizers\n",
        "from keras.callbacks import History, CSVLogger\n",
        "\n",
        "from sklearn.preprocessing import MultiLabelBinarizer\n",
        "from sklearn.model_selection import train_test_split\n",
        "from sklearn.metrics import precision_score, recall_score, f1_score, precision_recall_curve, average_precision_score, auc\n",
        "from sklearn.feature_extraction.text import TfidfVectorizer"
      ],
      "execution_count": null,
      "outputs": []
    },
    {
      "cell_type": "code",
      "metadata": {
        "colab": {
          "base_uri": "https://localhost:8080/",
          "height": 179
        },
        "id": "S632ehteJqca",
        "outputId": "71e3a1bd-4fca-424c-e12f-daffefbcba81"
      },
      "source": [
        "#load movie dataset\n",
        "movie_meta = pd.read_csv(\"/content/drive/MyDrive/DeepLearning/Project/MovieSummaries/movie.metadata.tsv\", sep = '\\t', header = None)\n",
        "movie_meta.head(2)\n",
        "\n"
      ],
      "execution_count": null,
      "outputs": [
        {
          "output_type": "execute_result",
          "data": {
            "text/html": [
              "<div>\n",
              "<style scoped>\n",
              "    .dataframe tbody tr th:only-of-type {\n",
              "        vertical-align: middle;\n",
              "    }\n",
              "\n",
              "    .dataframe tbody tr th {\n",
              "        vertical-align: top;\n",
              "    }\n",
              "\n",
              "    .dataframe thead th {\n",
              "        text-align: right;\n",
              "    }\n",
              "</style>\n",
              "<table border=\"1\" class=\"dataframe\">\n",
              "  <thead>\n",
              "    <tr style=\"text-align: right;\">\n",
              "      <th></th>\n",
              "      <th>0</th>\n",
              "      <th>1</th>\n",
              "      <th>2</th>\n",
              "      <th>3</th>\n",
              "      <th>4</th>\n",
              "      <th>5</th>\n",
              "      <th>6</th>\n",
              "      <th>7</th>\n",
              "      <th>8</th>\n",
              "    </tr>\n",
              "  </thead>\n",
              "  <tbody>\n",
              "    <tr>\n",
              "      <th>0</th>\n",
              "      <td>975900</td>\n",
              "      <td>/m/03vyhn</td>\n",
              "      <td>Ghosts of Mars</td>\n",
              "      <td>2001-08-24</td>\n",
              "      <td>14010832.0</td>\n",
              "      <td>98.0</td>\n",
              "      <td>{\"/m/02h40lc\": \"English Language\"}</td>\n",
              "      <td>{\"/m/09c7w0\": \"United States of America\"}</td>\n",
              "      <td>{\"/m/01jfsb\": \"Thriller\", \"/m/06n90\": \"Science Fiction\", \"/m/03npn\": \"Horror\", \"/m/03k9fj\": \"Adventure\", \"/m/0fdjb\": \"Supernatural\", \"/m/02kdv5l\": \"Action\", \"/m/09zvmj\": \"Space western\"}</td>\n",
              "    </tr>\n",
              "    <tr>\n",
              "      <th>1</th>\n",
              "      <td>3196793</td>\n",
              "      <td>/m/08yl5d</td>\n",
              "      <td>Getting Away with Murder: The JonBenét Ramsey Mystery</td>\n",
              "      <td>2000-02-16</td>\n",
              "      <td>NaN</td>\n",
              "      <td>95.0</td>\n",
              "      <td>{\"/m/02h40lc\": \"English Language\"}</td>\n",
              "      <td>{\"/m/09c7w0\": \"United States of America\"}</td>\n",
              "      <td>{\"/m/02n4kr\": \"Mystery\", \"/m/03bxz7\": \"Biographical film\", \"/m/07s9rl0\": \"Drama\", \"/m/0hj3n01\": \"Crime Drama\"}</td>\n",
              "    </tr>\n",
              "  </tbody>\n",
              "</table>\n",
              "</div>"
            ],
            "text/plain": [
              "         0  ...                                                                                                                                                                                           8\n",
              "0   975900  ...  {\"/m/01jfsb\": \"Thriller\", \"/m/06n90\": \"Science Fiction\", \"/m/03npn\": \"Horror\", \"/m/03k9fj\": \"Adventure\", \"/m/0fdjb\": \"Supernatural\", \"/m/02kdv5l\": \"Action\", \"/m/09zvmj\": \"Space western\"}\n",
              "1  3196793  ...                                                                              {\"/m/02n4kr\": \"Mystery\", \"/m/03bxz7\": \"Biographical film\", \"/m/07s9rl0\": \"Drama\", \"/m/0hj3n01\": \"Crime Drama\"}\n",
              "\n",
              "[2 rows x 9 columns]"
            ]
          },
          "metadata": {
            "tags": []
          },
          "execution_count": 52
        }
      ]
    },
    {
      "cell_type": "code",
      "metadata": {
        "id": "7tU9i4PIJsfg"
      },
      "source": [
        "# rename columns\n",
        "movie_meta.columns = [\"movie_id\",1,\"movie_name\",3,4,5,6,7,\"genre\"]\n",
        "#movie_meta.head(2)\n",
        "#print(movie_meta[movie_meta['genre'].str.contains(\"{}\")])\n",
        "x = movie_meta[movie_meta['genre'].str.contains(\"{}\")]\n",
        "#print(x.index)\n"
      ],
      "execution_count": null,
      "outputs": []
    },
    {
      "cell_type": "code",
      "metadata": {
        "id": "KLiMDISfWThW"
      },
      "source": [
        "#run only once\n",
        "movie_meta = pd.DataFrame(movie_meta, index=set(movie_meta.index).difference(set(x.index))).reset_index()"
      ],
      "execution_count": null,
      "outputs": []
    },
    {
      "cell_type": "code",
      "metadata": {
        "colab": {
          "base_uri": "https://localhost:8080/",
          "height": 179
        },
        "id": "kfNjcVvlXFsL",
        "outputId": "9bedfea2-93ff-4b30-eb67-ee646ed84eef"
      },
      "source": [
        "movie_meta.head(2)"
      ],
      "execution_count": null,
      "outputs": [
        {
          "output_type": "execute_result",
          "data": {
            "text/html": [
              "<div>\n",
              "<style scoped>\n",
              "    .dataframe tbody tr th:only-of-type {\n",
              "        vertical-align: middle;\n",
              "    }\n",
              "\n",
              "    .dataframe tbody tr th {\n",
              "        vertical-align: top;\n",
              "    }\n",
              "\n",
              "    .dataframe thead th {\n",
              "        text-align: right;\n",
              "    }\n",
              "</style>\n",
              "<table border=\"1\" class=\"dataframe\">\n",
              "  <thead>\n",
              "    <tr style=\"text-align: right;\">\n",
              "      <th></th>\n",
              "      <th>index</th>\n",
              "      <th>movie_id</th>\n",
              "      <th>1</th>\n",
              "      <th>movie_name</th>\n",
              "      <th>3</th>\n",
              "      <th>4</th>\n",
              "      <th>5</th>\n",
              "      <th>6</th>\n",
              "      <th>7</th>\n",
              "      <th>genre</th>\n",
              "    </tr>\n",
              "  </thead>\n",
              "  <tbody>\n",
              "    <tr>\n",
              "      <th>0</th>\n",
              "      <td>0</td>\n",
              "      <td>975900</td>\n",
              "      <td>/m/03vyhn</td>\n",
              "      <td>Ghosts of Mars</td>\n",
              "      <td>2001-08-24</td>\n",
              "      <td>14010832.0</td>\n",
              "      <td>98.0</td>\n",
              "      <td>{\"/m/02h40lc\": \"English Language\"}</td>\n",
              "      <td>{\"/m/09c7w0\": \"United States of America\"}</td>\n",
              "      <td>{\"/m/01jfsb\": \"Thriller\", \"/m/06n90\": \"Science Fiction\", \"/m/03npn\": \"Horror\", \"/m/03k9fj\": \"Adventure\", \"/m/0fdjb\": \"Supernatural\", \"/m/02kdv5l\": \"Action\", \"/m/09zvmj\": \"Space western\"}</td>\n",
              "    </tr>\n",
              "    <tr>\n",
              "      <th>1</th>\n",
              "      <td>1</td>\n",
              "      <td>3196793</td>\n",
              "      <td>/m/08yl5d</td>\n",
              "      <td>Getting Away with Murder: The JonBenét Ramsey Mystery</td>\n",
              "      <td>2000-02-16</td>\n",
              "      <td>NaN</td>\n",
              "      <td>95.0</td>\n",
              "      <td>{\"/m/02h40lc\": \"English Language\"}</td>\n",
              "      <td>{\"/m/09c7w0\": \"United States of America\"}</td>\n",
              "      <td>{\"/m/02n4kr\": \"Mystery\", \"/m/03bxz7\": \"Biographical film\", \"/m/07s9rl0\": \"Drama\", \"/m/0hj3n01\": \"Crime Drama\"}</td>\n",
              "    </tr>\n",
              "  </tbody>\n",
              "</table>\n",
              "</div>"
            ],
            "text/plain": [
              "   index  ...                                                                                                                                                                                       genre\n",
              "0      0  ...  {\"/m/01jfsb\": \"Thriller\", \"/m/06n90\": \"Science Fiction\", \"/m/03npn\": \"Horror\", \"/m/03k9fj\": \"Adventure\", \"/m/0fdjb\": \"Supernatural\", \"/m/02kdv5l\": \"Action\", \"/m/09zvmj\": \"Space western\"}\n",
              "1      1  ...                                                                              {\"/m/02n4kr\": \"Mystery\", \"/m/03bxz7\": \"Biographical film\", \"/m/07s9rl0\": \"Drama\", \"/m/0hj3n01\": \"Crime Drama\"}\n",
              "\n",
              "[2 rows x 10 columns]"
            ]
          },
          "metadata": {
            "tags": []
          },
          "execution_count": 55
        }
      ]
    },
    {
      "cell_type": "code",
      "metadata": {
        "colab": {
          "base_uri": "https://localhost:8080/",
          "height": 128
        },
        "id": "zhAgCafXJxhu",
        "outputId": "986ed7ce-1fb9-4f39-cf20-1a7762018309"
      },
      "source": [
        "#load movie dataset\n",
        "movie_plot = pd.read_csv(\"/content/drive/MyDrive/DeepLearning/Project/MovieSummaries/plot_summaries.txt\", sep = '\\t', header = None)\n",
        "movie_plot.head()\n",
        "\n",
        "# rename columns\n",
        "movie_plot.columns = [\"movie_id\",\"plots\"]\n",
        "movie_plot.head(2)"
      ],
      "execution_count": null,
      "outputs": [
        {
          "output_type": "execute_result",
          "data": {
            "text/html": [
              "<div>\n",
              "<style scoped>\n",
              "    .dataframe tbody tr th:only-of-type {\n",
              "        vertical-align: middle;\n",
              "    }\n",
              "\n",
              "    .dataframe tbody tr th {\n",
              "        vertical-align: top;\n",
              "    }\n",
              "\n",
              "    .dataframe thead th {\n",
              "        text-align: right;\n",
              "    }\n",
              "</style>\n",
              "<table border=\"1\" class=\"dataframe\">\n",
              "  <thead>\n",
              "    <tr style=\"text-align: right;\">\n",
              "      <th></th>\n",
              "      <th>movie_id</th>\n",
              "      <th>plots</th>\n",
              "    </tr>\n",
              "  </thead>\n",
              "  <tbody>\n",
              "    <tr>\n",
              "      <th>0</th>\n",
              "      <td>23890098</td>\n",
              "      <td>Shlykov, a hard-working taxi driver and Lyosha, a saxophonist, develop a bizarre love-hate relationship, and despite their prejudices, realize they aren't so different after all.</td>\n",
              "    </tr>\n",
              "    <tr>\n",
              "      <th>1</th>\n",
              "      <td>31186339</td>\n",
              "      <td>The nation of Panem consists of a wealthy Capitol and twelve poorer districts. As punishment for a past rebellion, each district must provide a boy and girl  between the ages of 12 and 18 selected by lottery  for the annual Hunger Games. The tributes must fight to the death in an arena; the sole...</td>\n",
              "    </tr>\n",
              "  </tbody>\n",
              "</table>\n",
              "</div>"
            ],
            "text/plain": [
              "   movie_id                                                                                                                                                                                                                                                                                                        plots\n",
              "0  23890098                                                                                                                           Shlykov, a hard-working taxi driver and Lyosha, a saxophonist, develop a bizarre love-hate relationship, and despite their prejudices, realize they aren't so different after all.\n",
              "1  31186339  The nation of Panem consists of a wealthy Capitol and twelve poorer districts. As punishment for a past rebellion, each district must provide a boy and girl  between the ages of 12 and 18 selected by lottery  for the annual Hunger Games. The tributes must fight to the death in an arena; the sole..."
            ]
          },
          "metadata": {
            "tags": []
          },
          "execution_count": 56
        }
      ]
    },
    {
      "cell_type": "code",
      "metadata": {
        "colab": {
          "base_uri": "https://localhost:8080/",
          "height": 179
        },
        "id": "P7IjVzc7J3Wt",
        "outputId": "47b5f756-0bf6-40fc-d6ec-f236d035ccf3"
      },
      "source": [
        "# merge meta with movies\n",
        "movies = pd.merge(movie_plot, movie_meta[['movie_id', 'movie_name', 'genre']], on = 'movie_id')\n",
        "movies['genre'].isnull().values.any()\n",
        "movies.head(2)\n"
      ],
      "execution_count": null,
      "outputs": [
        {
          "output_type": "execute_result",
          "data": {
            "text/html": [
              "<div>\n",
              "<style scoped>\n",
              "    .dataframe tbody tr th:only-of-type {\n",
              "        vertical-align: middle;\n",
              "    }\n",
              "\n",
              "    .dataframe tbody tr th {\n",
              "        vertical-align: top;\n",
              "    }\n",
              "\n",
              "    .dataframe thead th {\n",
              "        text-align: right;\n",
              "    }\n",
              "</style>\n",
              "<table border=\"1\" class=\"dataframe\">\n",
              "  <thead>\n",
              "    <tr style=\"text-align: right;\">\n",
              "      <th></th>\n",
              "      <th>movie_id</th>\n",
              "      <th>plots</th>\n",
              "      <th>movie_name</th>\n",
              "      <th>genre</th>\n",
              "    </tr>\n",
              "  </thead>\n",
              "  <tbody>\n",
              "    <tr>\n",
              "      <th>0</th>\n",
              "      <td>23890098</td>\n",
              "      <td>Shlykov, a hard-working taxi driver and Lyosha, a saxophonist, develop a bizarre love-hate relationship, and despite their prejudices, realize they aren't so different after all.</td>\n",
              "      <td>Taxi Blues</td>\n",
              "      <td>{\"/m/07s9rl0\": \"Drama\", \"/m/03q4nz\": \"World cinema\"}</td>\n",
              "    </tr>\n",
              "    <tr>\n",
              "      <th>1</th>\n",
              "      <td>31186339</td>\n",
              "      <td>The nation of Panem consists of a wealthy Capitol and twelve poorer districts. As punishment for a past rebellion, each district must provide a boy and girl  between the ages of 12 and 18 selected by lottery  for the annual Hunger Games. The tributes must fight to the death in an arena; the sole...</td>\n",
              "      <td>The Hunger Games</td>\n",
              "      <td>{\"/m/03btsm8\": \"Action/Adventure\", \"/m/06n90\": \"Science Fiction\", \"/m/02kdv5l\": \"Action\", \"/m/07s9rl0\": \"Drama\"}</td>\n",
              "    </tr>\n",
              "  </tbody>\n",
              "</table>\n",
              "</div>"
            ],
            "text/plain": [
              "   movie_id  ...                                                                                                             genre\n",
              "0  23890098  ...                                                              {\"/m/07s9rl0\": \"Drama\", \"/m/03q4nz\": \"World cinema\"}\n",
              "1  31186339  ...  {\"/m/03btsm8\": \"Action/Adventure\", \"/m/06n90\": \"Science Fiction\", \"/m/02kdv5l\": \"Action\", \"/m/07s9rl0\": \"Drama\"}\n",
              "\n",
              "[2 rows x 4 columns]"
            ]
          },
          "metadata": {
            "tags": []
          },
          "execution_count": 57
        }
      ]
    },
    {
      "cell_type": "code",
      "metadata": {
        "colab": {
          "base_uri": "https://localhost:8080/",
          "height": 162
        },
        "id": "HTz5TV0GJ7e5",
        "outputId": "2f95fa8e-b849-4736-bfcb-09967756cd86"
      },
      "source": [
        "# extracting all genres later adding it to dataframe as lists\n",
        "genres = [] # an empty list\n",
        "\n",
        "# extract genres\n",
        "for i in movies['genre']: \n",
        "  genres.append(list(json.loads(i).values())) \n",
        "\n",
        "# add to 'movies' dataframe  \n",
        "movies['genres'] = genres\n",
        "\n",
        "# remove samples with 0 genre tags\n",
        "movies_new = movies[~(movies['genres'].str.len() == 0)]\n",
        "movies_new.shape, movies.shape\n",
        "\n",
        "movies = movies.drop(columns= \"genre\")\n",
        "movies.head(2)"
      ],
      "execution_count": null,
      "outputs": [
        {
          "output_type": "execute_result",
          "data": {
            "text/html": [
              "<div>\n",
              "<style scoped>\n",
              "    .dataframe tbody tr th:only-of-type {\n",
              "        vertical-align: middle;\n",
              "    }\n",
              "\n",
              "    .dataframe tbody tr th {\n",
              "        vertical-align: top;\n",
              "    }\n",
              "\n",
              "    .dataframe thead th {\n",
              "        text-align: right;\n",
              "    }\n",
              "</style>\n",
              "<table border=\"1\" class=\"dataframe\">\n",
              "  <thead>\n",
              "    <tr style=\"text-align: right;\">\n",
              "      <th></th>\n",
              "      <th>movie_id</th>\n",
              "      <th>plots</th>\n",
              "      <th>movie_name</th>\n",
              "      <th>genres</th>\n",
              "    </tr>\n",
              "  </thead>\n",
              "  <tbody>\n",
              "    <tr>\n",
              "      <th>0</th>\n",
              "      <td>23890098</td>\n",
              "      <td>Shlykov, a hard-working taxi driver and Lyosha, a saxophonist, develop a bizarre love-hate relationship, and despite their prejudices, realize they aren't so different after all.</td>\n",
              "      <td>Taxi Blues</td>\n",
              "      <td>[Drama, World cinema]</td>\n",
              "    </tr>\n",
              "    <tr>\n",
              "      <th>1</th>\n",
              "      <td>31186339</td>\n",
              "      <td>The nation of Panem consists of a wealthy Capitol and twelve poorer districts. As punishment for a past rebellion, each district must provide a boy and girl  between the ages of 12 and 18 selected by lottery  for the annual Hunger Games. The tributes must fight to the death in an arena; the sole...</td>\n",
              "      <td>The Hunger Games</td>\n",
              "      <td>[Action/Adventure, Science Fiction, Action, Drama]</td>\n",
              "    </tr>\n",
              "  </tbody>\n",
              "</table>\n",
              "</div>"
            ],
            "text/plain": [
              "   movie_id  ...                                              genres\n",
              "0  23890098  ...                               [Drama, World cinema]\n",
              "1  31186339  ...  [Action/Adventure, Science Fiction, Action, Drama]\n",
              "\n",
              "[2 rows x 4 columns]"
            ]
          },
          "metadata": {
            "tags": []
          },
          "execution_count": 58
        }
      ]
    },
    {
      "cell_type": "code",
      "metadata": {
        "colab": {
          "base_uri": "https://localhost:8080/"
        },
        "id": "ox9PkG33Nnvu",
        "outputId": "9035fc5b-1cc5-4165-8105-0328f3ada7d7"
      },
      "source": [
        "# get all genre tags in a list\n",
        "all_genres = sum(genres,[])\n",
        "len(set(all_genres))"
      ],
      "execution_count": null,
      "outputs": [
        {
          "output_type": "execute_result",
          "data": {
            "text/plain": [
              "363"
            ]
          },
          "metadata": {
            "tags": []
          },
          "execution_count": 59
        }
      ]
    },
    {
      "cell_type": "code",
      "metadata": {
        "id": "Tb-DMeYJkoaJ"
      },
      "source": [
        "count_dict = defaultdict(int)\n",
        "\n",
        "#Count num of movies per genre\n",
        "def dict_count(row):\n",
        "    global count_dict\n",
        "    for genre in row[\"genres\"]:\n",
        "        count_dict[genre] += 1"
      ],
      "execution_count": null,
      "outputs": []
    },
    {
      "cell_type": "code",
      "metadata": {
        "id": "L_dwuGX7gXHh"
      },
      "source": [
        "#RUN ONLY ONCE!!!\n",
        "count_val_series = movies.apply(lambda row: dict_count(row), axis = 1)"
      ],
      "execution_count": null,
      "outputs": []
    },
    {
      "cell_type": "code",
      "metadata": {
        "colab": {
          "base_uri": "https://localhost:8080/"
        },
        "id": "3MEaAp0ighMc",
        "outputId": "80c4a848-c8cf-4583-ed33-57012499b1bd"
      },
      "source": [
        "#Count num of movies per genre\n",
        "for key,val in count_dict.items():\n",
        "    print(\"{:0.2f}% of the movies are {}\".format(100*val/len(movies), key))\n"
      ],
      "execution_count": null,
      "outputs": [
        {
          "output_type": "stream",
          "text": [
            "45.78% of the movies are Drama\n",
            "12.33% of the movies are World cinema\n",
            "8.50% of the movies are Action/Adventure\n",
            "5.60% of the movies are Science Fiction\n",
            "14.04% of the movies are Action\n",
            "5.78% of the movies are Musical\n",
            "2.53% of the movies are Bollywood\n",
            "0.59% of the movies are Screwball comedy\n",
            "25.04% of the movies are Comedy\n",
            "10.23% of the movies are Crime Fiction\n",
            "0.60% of the movies are Docudrama\n",
            "0.44% of the movies are Courtroom Drama\n",
            "15.62% of the movies are Thriller\n",
            "9.77% of the movies are Horror\n",
            "1.97% of the movies are Teen\n",
            "4.96% of the movies are Romantic comedy\n",
            "0.17% of the movies are Media Satire\n",
            "0.22% of the movies are Americana\n",
            "3.02% of the movies are Comedy-drama\n",
            "8.93% of the movies are Black-and-white\n",
            "15.95% of the movies are Romance Film\n",
            "7.64% of the movies are Short Film\n",
            "7.70% of the movies are Family Film\n",
            "5.84% of the movies are Animation\n",
            "1.84% of the movies are Parody\n",
            "3.72% of the movies are War film\n",
            "0.47% of the movies are Epic\n",
            "3.16% of the movies are Period piece\n",
            "2.93% of the movies are Film adaptation\n",
            "1.27% of the movies are Political drama\n",
            "1.63% of the movies are Cult\n",
            "1.77% of the movies are Coming of age\n",
            "5.07% of the movies are Mystery\n",
            "4.25% of the movies are Comedy film\n",
            "8.78% of the movies are Indie\n",
            "1.69% of the movies are Martial Arts Film\n",
            "0.47% of the movies are Computer Animation\n",
            "7.77% of the movies are Adventure\n",
            "2.90% of the movies are Documentary\n",
            "0.86% of the movies are History\n",
            "0.87% of the movies are Biopic [feature]\n",
            "1.83% of the movies are Family Drama\n",
            "0.92% of the movies are B-movie\n",
            "1.56% of the movies are Slasher\n",
            "2.45% of the movies are Western\n",
            "0.78% of the movies are Buddy film\n",
            "0.18% of the movies are Costume Adventure\n",
            "0.15% of the movies are Historical Epic\n",
            "2.39% of the movies are Chinese Movies\n",
            "4.02% of the movies are Crime Thriller\n",
            "0.42% of the movies are Musical comedy\n",
            "0.05% of the movies are Beach Film\n",
            "0.19% of the movies are Wuxia\n",
            "0.45% of the movies are Fantasy Adventure\n",
            "0.62% of the movies are Superhero movie\n",
            "4.81% of the movies are Fantasy\n",
            "0.14% of the movies are Romantic fantasy\n",
            "2.00% of the movies are Black comedy\n",
            "1.27% of the movies are Satire\n",
            "6.15% of the movies are Romantic drama\n",
            "2.87% of the movies are Silent film\n",
            "0.26% of the movies are Experimental film\n",
            "0.33% of the movies are Musical Drama\n",
            "0.20% of the movies are Avant-garde\n",
            "1.97% of the movies are LGBT\n",
            "0.52% of the movies are Gay\n",
            "0.82% of the movies are Spy\n",
            "1.19% of the movies are Melodrama\n",
            "0.37% of the movies are Natural horror films\n",
            "1.59% of the movies are Television movie\n",
            "0.51% of the movies are Comedy of manners\n",
            "0.12% of the movies are Tragicomedy\n",
            "1.61% of the movies are Sports\n",
            "1.82% of the movies are Children's/Family\n",
            "0.99% of the movies are Children's\n",
            "0.85% of the movies are Music\n",
            "0.51% of the movies are Family-Oriented Adventure\n",
            "1.24% of the movies are Slapstick\n",
            "0.47% of the movies are Fantasy Comedy\n",
            "0.41% of the movies are Domestic Comedy\n",
            "2.72% of the movies are Psychological thriller\n",
            "0.02% of the movies are Psycho-biddy\n",
            "0.05% of the movies are B-Western\n",
            "0.31% of the movies are Pre-Code\n",
            "0.23% of the movies are Mockumentary\n",
            "0.52% of the movies are Gay Interest\n",
            "0.63% of the movies are Gay Themed\n",
            "3.09% of the movies are Japanese Movies\n",
            "0.28% of the movies are Christian film\n",
            "1.42% of the movies are Biography\n",
            "0.88% of the movies are Costume drama\n",
            "0.05% of the movies are Hagiography\n",
            "0.73% of the movies are Historical fiction\n",
            "1.37% of the movies are Supernatural\n",
            "0.73% of the movies are Anime\n",
            "0.55% of the movies are Crime Comedy\n",
            "0.14% of the movies are Neo-noir\n",
            "0.02% of the movies are Filipino\n",
            "0.53% of the movies are Filipino Movies\n",
            "0.42% of the movies are Political cinema\n",
            "0.19% of the movies are Political satire\n",
            "0.67% of the movies are Detective\n",
            "1.25% of the movies are Film noir\n",
            "0.26% of the movies are Historical drama\n",
            "0.81% of the movies are Gangster Film\n",
            "0.03% of the movies are Prison film\n",
            "0.22% of the movies are Prison\n",
            "0.30% of the movies are Sci-Fi Horror\n",
            "0.83% of the movies are Creature Film\n",
            "0.84% of the movies are Art film\n",
            "0.84% of the movies are Ensemble Film\n",
            "0.54% of the movies are Detective fiction\n",
            "0.40% of the movies are Monster movie\n",
            "0.94% of the movies are Crime Drama\n",
            "0.02% of the movies are Anthology\n",
            "0.19% of the movies are Blaxploitation\n",
            "0.13% of the movies are Spaghetti Western\n",
            "0.04% of the movies are Indian Western\n",
            "0.24% of the movies are Chase Movie\n",
            "0.21% of the movies are New Hollywood\n",
            "1.56% of the movies are Suspense\n",
            "0.47% of the movies are Political thriller\n",
            "0.16% of the movies are Haunted House Film\n",
            "0.13% of the movies are Airplanes and airports\n",
            "0.97% of the movies are Action Thrillers\n",
            "0.01% of the movies are Early Black Cinema\n",
            "0.27% of the movies are Monster\n",
            "0.08% of the movies are Sci-Fi Adventure\n",
            "0.19% of the movies are Christmas movie\n",
            "0.22% of the movies are Holiday Film\n",
            "0.15% of the movies are Tamil cinema\n",
            "0.04% of the movies are Educational\n",
            "0.61% of the movies are Sex comedy\n",
            "0.35% of the movies are Pornographic movie\n",
            "0.56% of the movies are Zombie Film\n",
            "0.20% of the movies are Sexploitation\n",
            "0.34% of the movies are Action Comedy\n",
            "0.06% of the movies are Crime\n",
            "0.19% of the movies are Absurdism\n",
            "0.00% of the movies are The Netherlands in World War II\n",
            "0.15% of the movies are Religious Film\n",
            "0.27% of the movies are Childhood Drama\n",
            "0.11% of the movies are Escape Film\n",
            "0.35% of the movies are Heist\n",
            "0.19% of the movies are Caper story\n",
            "0.23% of the movies are Alien Film\n",
            "0.41% of the movies are Erotic thriller\n",
            "0.28% of the movies are Adult\n",
            "0.08% of the movies are Tollywood\n",
            "0.40% of the movies are Comedy of Errors\n",
            "0.27% of the movies are Erotic Drama\n",
            "0.56% of the movies are Erotica\n",
            "0.27% of the movies are Superhero\n",
            "0.22% of the movies are Animated cartoon\n",
            "0.32% of the movies are Stop motion\n",
            "0.12% of the movies are Boxing\n",
            "0.13% of the movies are Medical fiction\n",
            "0.04% of the movies are Sword and Sandal\n",
            "0.08% of the movies are Roadshow theatrical release\n",
            "0.64% of the movies are Road movie\n",
            "0.11% of the movies are Stoner film\n",
            "0.13% of the movies are Comedy Western\n",
            "0.04% of the movies are Fantasy Drama\n",
            "0.05% of the movies are Gay pornography\n",
            "0.10% of the movies are Addiction Drama\n",
            "0.24% of the movies are Surrealism\n",
            "1.50% of the movies are Biographical film\n",
            "0.05% of the movies are Law & Crime\n",
            "0.24% of the movies are Social issues\n",
            "0.01% of the movies are Education\n",
            "0.03% of the movies are Travel\n",
            "0.03% of the movies are Kitchen sink realism\n",
            "0.22% of the movies are Social problem film\n",
            "0.04% of the movies are Epic Western\n",
            "0.03% of the movies are Women in prison films\n",
            "0.57% of the movies are Disaster\n",
            "0.19% of the movies are Tragedy\n",
            "0.49% of the movies are Horror Comedy\n",
            "0.58% of the movies are Children's Fantasy\n",
            "0.12% of the movies are Auto racing\n",
            "0.20% of the movies are Remake\n",
            "0.33% of the movies are Marriage Drama\n",
            "0.34% of the movies are Animal Picture\n",
            "0.18% of the movies are Feminist Film\n",
            "0.22% of the movies are Slice of life story\n",
            "0.49% of the movies are Culture & Society\n",
            "0.05% of the movies are Interpersonal Relationships\n",
            "0.11% of the movies are Fairy tale\n",
            "0.18% of the movies are Propaganda film\n",
            "0.05% of the movies are Heaven-Can-Wait Fantasies\n",
            "0.06% of the movies are Heavenly Comedy\n",
            "0.06% of the movies are Inspirational Drama\n",
            "0.11% of the movies are Glamorized Spy Film\n",
            "0.20% of the movies are Combat Films\n",
            "0.03% of the movies are Movie serial\n",
            "0.15% of the movies are Gothic Film\n",
            "0.09% of the movies are Sword and sorcery films\n",
            "0.02% of the movies are Feature film\n",
            "0.04% of the movies are Dogme 95\n",
            "0.03% of the movies are Cavalry Film\n",
            "0.27% of the movies are Doomsday film\n",
            "0.14% of the movies are Gross out\n",
            "0.14% of the movies are Gross-out film\n",
            "0.06% of the movies are Samurai cinema\n",
            "0.05% of the movies are British Empire Film\n",
            "0.10% of the movies are Animated Musical\n",
            "0.05% of the movies are Comedy horror\n",
            "0.14% of the movies are Revisionist Western\n",
            "0.13% of the movies are Costume Horror\n",
            "0.02% of the movies are Essay Film\n",
            "0.05% of the movies are Road-Horror\n",
            "0.03% of the movies are Buddy cop\n",
            "0.01% of the movies are Film-Opera\n",
            "0.03% of the movies are Natural disaster\n",
            "0.20% of the movies are Dystopia\n",
            "0.06% of the movies are Pinku eiga\n",
            "0.29% of the movies are Adventure Comedy\n",
            "0.01% of the movies are Operetta\n",
            "0.17% of the movies are Dance\n",
            "0.00% of the movies are Prison escape\n",
            "0.20% of the movies are Workplace Comedy\n",
            "0.01% of the movies are Parkour in popular culture\n",
            "0.02% of the movies are Reboot\n",
            "0.08% of the movies are Existentialism\n",
            "0.03% of the movies are Ealing Comedies\n",
            "0.10% of the movies are Whodunit\n",
            "0.08% of the movies are Apocalyptic and post-apocalyptic fiction\n",
            "0.10% of the movies are Juvenile Delinquency Film\n",
            "0.10% of the movies are Softcore Porn\n",
            "0.25% of the movies are Swashbuckler films\n",
            "0.01% of the movies are Sci Fi Pictures original films\n",
            "0.06% of the movies are Mythological Fantasy\n",
            "0.01% of the movies are Singing cowboy\n",
            "0.08% of the movies are Anti-war\n",
            "0.15% of the movies are Jungle Film\n",
            "0.07% of the movies are Anti-war film\n",
            "0.06% of the movies are Giallo\n",
            "0.19% of the movies are Comedy Thriller\n",
            "0.01% of the movies are Courtroom Comedy\n",
            "0.02% of the movies are Legal drama\n",
            "0.07% of the movies are Hip hop movies\n",
            "0.00% of the movies are Live action\n",
            "0.03% of the movies are Outlaw biker film\n",
            "0.01% of the movies are Graphic & Applied Arts\n",
            "0.07% of the movies are Splatter film\n",
            "0.09% of the movies are Sword and sorcery\n",
            "0.01% of the movies are Alien invasion\n",
            "0.07% of the movies are Hybrid Western\n",
            "0.07% of the movies are Future noir\n",
            "0.05% of the movies are Biker Film\n",
            "0.03% of the movies are Albino bias\n",
            "0.18% of the movies are Time travel\n",
            "0.07% of the movies are Film à clef\n",
            "0.03% of the movies are Concert film\n",
            "0.04% of the movies are Nature\n",
            "0.01% of the movies are Cyberpunk\n",
            "0.02% of the movies are Horse racing\n",
            "0.07% of the movies are Steampunk\n",
            "0.06% of the movies are Master Criminal Films\n",
            "0.02% of the movies are Archaeology\n",
            "0.02% of the movies are Acid western\n",
            "0.00% of the movies are War effort\n",
            "0.10% of the movies are Rockumentary\n",
            "0.05% of the movies are Film\n",
            "0.01% of the movies are Humour\n",
            "0.01% of the movies are Instrumental Music\n",
            "0.02% of the movies are Northern\n",
            "0.05% of the movies are Backstage Musical\n",
            "0.01% of the movies are Camp\n",
            "0.02% of the movies are Foreign legion\n",
            "0.01% of the movies are Space opera\n",
            "0.01% of the movies are Female buddy film\n",
            "0.02% of the movies are Language & Literature\n",
            "0.02% of the movies are Baseball\n",
            "0.03% of the movies are Malayalam Cinema\n",
            "0.02% of the movies are Extreme Sports\n",
            "0.01% of the movies are Bloopers & Candid Camera\n",
            "0.03% of the movies are Stand-up comedy\n",
            "0.02% of the movies are Family & Personal Relationships\n",
            "0.02% of the movies are Media Studies\n",
            "0.06% of the movies are Punk rock\n",
            "0.03% of the movies are Film & Television History\n",
            "0.05% of the movies are Gender Issues\n",
            "0.01% of the movies are Goat gland\n",
            "0.03% of the movies are Children's Entertainment\n",
            "0.01% of the movies are Business\n",
            "0.04% of the movies are Fan film\n",
            "0.02% of the movies are Fictional film\n",
            "0.01% of the movies are Finance & Investing\n",
            "0.01% of the movies are Kafkaesque\n",
            "0.01% of the movies are Sci-Fi Thriller\n",
            "0.02% of the movies are Jukebox musical\n",
            "0.03% of the movies are Illnesses & Disabilities\n",
            "0.02% of the movies are Pornography\n",
            "0.01% of the movies are Science fiction Western\n",
            "0.03% of the movies are Exploitation\n",
            "0.03% of the movies are British New Wave\n",
            "0.02% of the movies are World History\n",
            "0.02% of the movies are Cold War\n",
            "0.01% of the movies are Coming-of-age film\n",
            "0.01% of the movies are Point of view shot\n",
            "0.01% of the movies are Race movie\n",
            "0.02% of the movies are Hardcore pornography\n",
            "0.01% of the movies are Environmental Science\n",
            "0.00% of the movies are Conspiracy fiction\n",
            "0.01% of the movies are Movies About Gladiators\n",
            "0.01% of the movies are Bruceploitation\n",
            "0.01% of the movies are Outlaw\n",
            "0.02% of the movies are Bengali Cinema\n",
            "0.02% of the movies are News\n",
            "0.02% of the movies are Czechoslovak New Wave\n",
            "0.03% of the movies are Space western\n",
            "0.01% of the movies are Health & Fitness\n",
            "0.01% of the movies are Sponsored film\n",
            "0.01% of the movies are Roadshow/Carny\n",
            "0.00% of the movies are Revenge\n",
            "0.04% of the movies are Animals\n",
            "0.01% of the movies are Filmed Play\n",
            "0.02% of the movies are Mumblecore\n",
            "0.00% of the movies are Z movie\n",
            "0.00% of the movies are Patriotic film\n",
            "0.01% of the movies are Computers\n",
            "0.01% of the movies are Inventions & Innovations\n",
            "0.00% of the movies are Ninja movie\n",
            "0.01% of the movies are Plague\n",
            "0.01% of the movies are Latino\n",
            "0.01% of the movies are School story\n",
            "0.01% of the movies are Nuclear warfare\n",
            "0.01% of the movies are Demonic child\n",
            "0.01% of the movies are Mondo film\n",
            "0.00% of the movies are Beach Party film\n",
            "0.00% of the movies are Private military company\n",
            "0.01% of the movies are Werewolf fiction\n",
            "0.01% of the movies are Archives and records\n",
            "0.00% of the movies are Political Documetary\n",
            "0.00% of the movies are Tokusatsu\n",
            "0.01% of the movies are Supermarionation\n",
            "0.01% of the movies are Psychological horror\n",
            "0.01% of the movies are Clay animation\n",
            "0.00% of the movies are Period Horror\n",
            "0.00% of the movies are Linguistics\n",
            "0.01% of the movies are Gulf War\n",
            "0.01% of the movies are Therimin music\n",
            "0.01% of the movies are Libraries and librarians\n",
            "0.00% of the movies are Revisionist Fairy Tale\n",
            "0.00% of the movies are Romantic thriller\n",
            "0.00% of the movies are C-Movie\n",
            "0.00% of the movies are Expressionism\n",
            "0.00% of the movies are Anthropology\n",
            "0.01% of the movies are Vampire movies\n",
            "0.00% of the movies are Breakdance\n",
            "0.00% of the movies are Chick flick\n",
            "0.00% of the movies are Star vehicle\n",
            "0.00% of the movies are New Queer Cinema\n",
            "0.00% of the movies are Buddy Picture\n",
            "0.00% of the movies are Historical Documentaries\n",
            "0.00% of the movies are Journalism\n",
            "0.00% of the movies are Comdedy\n",
            "0.00% of the movies are Statutory rape\n",
            "0.00% of the movies are Silhouette animation\n",
            "0.00% of the movies are Children's Issues\n",
            "0.00% of the movies are Homoeroticism\n",
            "0.00% of the movies are Neorealism\n"
          ],
          "name": "stdout"
        }
      ]
    },
    {
      "cell_type": "code",
      "metadata": {
        "colab": {
          "base_uri": "https://localhost:8080/",
          "height": 877
        },
        "id": "cIVnuqyWglS2",
        "outputId": "26eb69c2-6282-4076-eff3-1b3de7213b42"
      },
      "source": [
        "#creating dictories of genre and occurrence accross the dataset\n",
        "all_genres = nltk.FreqDist(all_genres) \n",
        "\n",
        "# create dataframe\n",
        "all_genres_df = pd.DataFrame({'Genre': list(all_genres.keys()), \n",
        "                              'Count': list(all_genres.values())})\n",
        "\n",
        "#plotting the distribution\n",
        "g = all_genres_df.nlargest(columns=\"Count\", n = 50) \n",
        "plt.figure(figsize=(12,15)) \n",
        "ax = sns.barplot(data=g, x= \"Count\", y = \"Genre\") \n",
        "ax.set(ylabel = 'Count') \n",
        "plt.show()"
      ],
      "execution_count": null,
      "outputs": [
        {
          "output_type": "display_data",
          "data": {
            "image/png": "[encoded data removed]",
            "text/plain": [
              "<Figure size 864x1080 with 1 Axes>"
            ]
          },
          "metadata": {
            "tags": [],
            "needs_background": "light"
          }
        }
      ]
    },
    {
      "cell_type": "markdown",
      "metadata": {
        "id": "zgihSO9zOB6f"
      },
      "source": [
        "# Consolidate Genre Labels"
      ]
    },
    {
      "cell_type": "code",
      "metadata": {
        "colab": {
          "base_uri": "https://localhost:8080/"
        },
        "id": "9iTu9C7FjLSu",
        "outputId": "2a49ccca-f33f-4901-86d1-1c20f4fb1aa0"
      },
      "source": [
        "import operator\n",
        "sorted(count_dict.items(), key=operator.itemgetter(1))[::-1]"
      ],
      "execution_count": null,
      "outputs": [
        {
          "output_type": "execute_result",
          "data": {
            "text/plain": [
              "[('Drama', 19134),\n",
              " ('Comedy', 10467),\n",
              " ('Romance Film', 6666),\n",
              " ('Thriller', 6530),\n",
              " ('Action', 5868),\n",
              " ('World cinema', 5153),\n",
              " ('Crime Fiction', 4275),\n",
              " ('Horror', 4082),\n",
              " ('Black-and-white', 3731),\n",
              " ('Indie', 3668),\n",
              " ('Action/Adventure', 3553),\n",
              " ('Adventure', 3248),\n",
              " ('Family Film', 3219),\n",
              " ('Short Film', 3192),\n",
              " ('Romantic drama', 2572),\n",
              " ('Animation', 2441),\n",
              " ('Musical', 2414),\n",
              " ('Science Fiction', 2339),\n",
              " ('Mystery', 2119),\n",
              " ('Romantic comedy', 2075),\n",
              " ('Fantasy', 2012),\n",
              " ('Comedy film', 1778),\n",
              " ('Crime Thriller', 1682),\n",
              " ('War film', 1556),\n",
              " ('Period piece', 1321),\n",
              " ('Japanese Movies', 1290),\n",
              " ('Comedy-drama', 1261),\n",
              " ('Film adaptation', 1225),\n",
              " ('Documentary', 1213),\n",
              " ('Silent film', 1199),\n",
              " ('Psychological thriller', 1138),\n",
              " ('Bollywood', 1058),\n",
              " ('Western', 1022),\n",
              " ('Chinese Movies', 998),\n",
              " ('Black comedy', 834),\n",
              " ('LGBT', 825),\n",
              " ('Teen', 824),\n",
              " ('Parody', 767),\n",
              " ('Family Drama', 766),\n",
              " (\"Children's/Family\", 759),\n",
              " ('Coming of age', 741),\n",
              " ('Martial Arts Film', 706),\n",
              " ('Cult', 680),\n",
              " ('Sports', 672),\n",
              " ('Television movie', 665),\n",
              " ('Slasher', 654),\n",
              " ('Suspense', 651),\n",
              " ('Biographical film', 625),\n",
              " ('Biography', 592),\n",
              " ('Supernatural', 571),\n",
              " ('Satire', 532),\n",
              " ('Political drama', 531),\n",
              " ('Film noir', 524),\n",
              " ('Slapstick', 518),\n",
              " ('Melodrama', 499),\n",
              " (\"Children's\", 412),\n",
              " ('Action Thrillers', 405),\n",
              " ('Crime Drama', 391),\n",
              " ('B-movie', 386),\n",
              " ('Costume drama', 367),\n",
              " ('Biopic [feature]', 365),\n",
              " ('History', 358),\n",
              " ('Music', 356),\n",
              " ('Art film', 351),\n",
              " ('Ensemble Film', 349),\n",
              " ('Creature Film', 347),\n",
              " ('Spy', 342),\n",
              " ('Gangster Film', 338),\n",
              " ('Buddy film', 325),\n",
              " ('Anime', 305),\n",
              " ('Historical fiction', 305),\n",
              " ('Detective', 282),\n",
              " ('Road movie', 268),\n",
              " ('Gay Themed', 264),\n",
              " ('Superhero movie', 258),\n",
              " ('Sex comedy', 253),\n",
              " ('Docudrama', 252),\n",
              " ('Screwball comedy', 246),\n",
              " (\"Children's Fantasy\", 244),\n",
              " ('Disaster', 238),\n",
              " ('Erotica', 235),\n",
              " ('Zombie Film', 234),\n",
              " ('Crime Comedy', 231),\n",
              " ('Detective fiction', 225),\n",
              " ('Filipino Movies', 220),\n",
              " ('Gay', 219),\n",
              " ('Gay Interest', 217),\n",
              " ('Family-Oriented Adventure', 213),\n",
              " ('Comedy of manners', 212),\n",
              " ('Horror Comedy', 206),\n",
              " ('Culture & Society', 204),\n",
              " ('Fantasy Comedy', 196),\n",
              " ('Epic', 196),\n",
              " ('Political thriller', 195),\n",
              " ('Computer Animation', 195),\n",
              " ('Fantasy Adventure', 190),\n",
              " ('Courtroom Drama', 184),\n",
              " ('Political cinema', 176),\n",
              " ('Musical comedy', 175),\n",
              " ('Domestic Comedy', 172),\n",
              " ('Erotic thriller', 170),\n",
              " ('Comedy of Errors', 169),\n",
              " ('Monster movie', 168),\n",
              " ('Natural horror films', 153),\n",
              " ('Heist', 145),\n",
              " ('Pornographic movie', 145),\n",
              " ('Action Comedy', 142),\n",
              " ('Animal Picture', 141),\n",
              " ('Marriage Drama', 137),\n",
              " ('Musical Drama', 136),\n",
              " ('Stop motion', 134),\n",
              " ('Pre-Code', 130),\n",
              " ('Sci-Fi Horror', 124),\n",
              " ('Adventure Comedy', 123),\n",
              " ('Adult', 117),\n",
              " ('Christian film', 116),\n",
              " ('Monster', 113),\n",
              " ('Doomsday film', 112),\n",
              " ('Erotic Drama', 112),\n",
              " ('Superhero', 111),\n",
              " ('Childhood Drama', 111),\n",
              " ('Historical drama', 107),\n",
              " ('Experimental film', 107),\n",
              " ('Swashbuckler films', 104),\n",
              " ('Social issues', 101),\n",
              " ('Chase Movie', 100),\n",
              " ('Surrealism', 99),\n",
              " ('Alien Film', 97),\n",
              " ('Mockumentary', 97),\n",
              " ('Slice of life story', 94),\n",
              " ('Animated cartoon', 94),\n",
              " ('Holiday Film', 94),\n",
              " ('Social problem film', 92),\n",
              " ('Americana', 91),\n",
              " ('Prison', 90),\n",
              " ('New Hollywood', 86),\n",
              " ('Remake', 85),\n",
              " ('Workplace Comedy', 84),\n",
              " ('Dystopia', 84),\n",
              " ('Combat Films', 84),\n",
              " ('Avant-garde', 83),\n",
              " ('Sexploitation', 82),\n",
              " ('Caper story', 80),\n",
              " ('Christmas movie', 80),\n",
              " ('Tragedy', 79),\n",
              " ('Absurdism', 79),\n",
              " ('Blaxploitation', 79),\n",
              " ('Wuxia', 79),\n",
              " ('Comedy Thriller', 78),\n",
              " ('Political satire', 78),\n",
              " ('Time travel', 77),\n",
              " ('Propaganda film', 77),\n",
              " ('Costume Adventure', 77),\n",
              " ('Feminist Film', 76),\n",
              " ('Media Satire', 71),\n",
              " ('Dance', 69),\n",
              " ('Haunted House Film', 65),\n",
              " ('Tamil cinema', 63),\n",
              " ('Historical Epic', 63),\n",
              " ('Jungle Film', 62),\n",
              " ('Gothic Film', 62),\n",
              " ('Religious Film', 61),\n",
              " ('Revisionist Western', 60),\n",
              " ('Romantic fantasy', 59),\n",
              " ('Gross-out film', 58),\n",
              " ('Gross out', 58),\n",
              " ('Neo-noir', 57),\n",
              " ('Medical fiction', 56),\n",
              " ('Spaghetti Western', 56),\n",
              " ('Costume Horror', 55),\n",
              " ('Comedy Western', 53),\n",
              " ('Airplanes and airports', 53),\n",
              " ('Boxing', 51),\n",
              " ('Tragicomedy', 51),\n",
              " ('Auto racing', 50),\n",
              " ('Fairy tale', 48),\n",
              " ('Stoner film', 46),\n",
              " ('Glamorized Spy Film', 45),\n",
              " ('Escape Film', 45),\n",
              " ('Whodunit', 43),\n",
              " ('Animated Musical', 43),\n",
              " ('Juvenile Delinquency Film', 42),\n",
              " ('Addiction Drama', 42),\n",
              " ('Softcore Porn', 41),\n",
              " ('Rockumentary', 40),\n",
              " ('Sword and sorcery', 39),\n",
              " ('Sword and sorcery films', 37),\n",
              " ('Existentialism', 34),\n",
              " ('Anti-war', 32),\n",
              " ('Apocalyptic and post-apocalyptic fiction', 32),\n",
              " ('Roadshow theatrical release', 32),\n",
              " ('Tollywood', 32),\n",
              " ('Sci-Fi Adventure', 32),\n",
              " ('Hip hop movies', 31),\n",
              " ('Anti-war film', 31),\n",
              " ('Steampunk', 30),\n",
              " ('Film à clef', 29),\n",
              " ('Future noir', 29),\n",
              " ('Hybrid Western', 29),\n",
              " ('Splatter film', 28),\n",
              " ('Samurai cinema', 27),\n",
              " ('Inspirational Drama', 27),\n",
              " ('Heavenly Comedy', 27),\n",
              " ('Mythological Fantasy', 26),\n",
              " ('Crime', 26),\n",
              " ('Master Criminal Films', 25),\n",
              " ('Giallo', 25),\n",
              " ('Pinku eiga', 24),\n",
              " ('Punk rock', 23),\n",
              " ('Heaven-Can-Wait Fantasies', 21),\n",
              " ('Interpersonal Relationships', 21),\n",
              " ('Law & Crime', 21),\n",
              " ('Gay pornography', 21),\n",
              " ('Backstage Musical', 20),\n",
              " ('Biker Film', 20),\n",
              " ('British Empire Film', 20),\n",
              " ('Gender Issues', 19),\n",
              " ('Film', 19),\n",
              " ('Road-Horror', 19),\n",
              " ('Comedy horror', 19),\n",
              " ('Hagiography', 19),\n",
              " ('B-Western', 19),\n",
              " ('Beach Film', 19),\n",
              " ('Fan film', 18),\n",
              " ('Indian Western', 18),\n",
              " ('Nature', 17),\n",
              " ('Dogme 95', 17),\n",
              " ('Epic Western', 17),\n",
              " ('Fantasy Drama', 16),\n",
              " ('Sword and Sandal', 16),\n",
              " ('Educational', 16),\n",
              " ('Animals', 15),\n",
              " ('Illnesses & Disabilities', 14),\n",
              " ('Albino bias', 14),\n",
              " ('Natural disaster', 14),\n",
              " ('Kitchen sink realism', 14),\n",
              " ('Travel', 14),\n",
              " ('British New Wave', 13),\n",
              " ('Women in prison films', 13),\n",
              " ('Space western', 12),\n",
              " ('Exploitation', 12),\n",
              " ('Stand-up comedy', 12),\n",
              " ('Malayalam Cinema', 12),\n",
              " ('Outlaw biker film', 12),\n",
              " ('Ealing Comedies', 12),\n",
              " ('Cavalry Film', 12),\n",
              " ('Prison film', 12),\n",
              " (\"Children's Entertainment\", 11),\n",
              " ('Film & Television History', 11),\n",
              " ('Concert film', 11),\n",
              " ('Buddy cop', 11),\n",
              " ('Movie serial', 11),\n",
              " ('Bengali Cinema', 10),\n",
              " ('Cold War', 10),\n",
              " ('World History', 10),\n",
              " ('Family & Personal Relationships', 10),\n",
              " ('Extreme Sports', 10),\n",
              " ('Foreign legion', 10),\n",
              " ('Archaeology', 10),\n",
              " ('Filipino', 10),\n",
              " ('Psycho-biddy', 10),\n",
              " ('Baseball', 9),\n",
              " ('Fictional film', 8),\n",
              " ('Language & Literature', 8),\n",
              " ('Horse racing', 8),\n",
              " ('Legal drama', 8),\n",
              " ('Reboot', 8),\n",
              " ('Essay Film', 8),\n",
              " ('Feature film', 8),\n",
              " ('Mumblecore', 7),\n",
              " ('Czechoslovak New Wave', 7),\n",
              " ('News', 7),\n",
              " ('Hardcore pornography', 7),\n",
              " ('Pornography', 7),\n",
              " ('Jukebox musical', 7),\n",
              " ('Media Studies', 7),\n",
              " ('Northern', 7),\n",
              " ('Acid western', 7),\n",
              " ('Anthology', 7),\n",
              " ('Archives and records', 6),\n",
              " ('Demonic child', 6),\n",
              " ('Environmental Science', 6),\n",
              " ('Kafkaesque', 6),\n",
              " ('Courtroom Comedy', 6),\n",
              " ('Parkour in popular culture', 6),\n",
              " ('Early Black Cinema', 6),\n",
              " ('Libraries and librarians', 5),\n",
              " ('Gulf War', 5),\n",
              " ('Mondo film', 5),\n",
              " ('Outlaw', 5),\n",
              " ('Movies About Gladiators', 5),\n",
              " ('Science fiction Western', 5),\n",
              " ('Sci-Fi Thriller', 5),\n",
              " ('Space opera', 5),\n",
              " ('Cyberpunk', 5),\n",
              " ('Therimin music', 4),\n",
              " ('Clay animation', 4),\n",
              " ('Werewolf fiction', 4),\n",
              " ('School story', 4),\n",
              " ('Plague', 4),\n",
              " ('Inventions & Innovations', 4),\n",
              " ('Computers', 4),\n",
              " ('Roadshow/Carny', 4),\n",
              " ('Sponsored film', 4),\n",
              " ('Coming-of-age film', 4),\n",
              " ('Finance & Investing', 4),\n",
              " ('Business', 4),\n",
              " ('Goat gland', 4),\n",
              " ('Female buddy film', 4),\n",
              " ('Instrumental Music', 4),\n",
              " ('Humour', 4),\n",
              " ('Alien invasion', 4),\n",
              " ('Graphic & Applied Arts', 4),\n",
              " ('Sci Fi Pictures original films', 4),\n",
              " ('Operetta', 4),\n",
              " ('Vampire movies', 3),\n",
              " ('Psychological horror', 3),\n",
              " ('Supermarionation', 3),\n",
              " ('Nuclear warfare', 3),\n",
              " ('Latino', 3),\n",
              " ('Filmed Play', 3),\n",
              " ('Health & Fitness', 3),\n",
              " ('Bruceploitation', 3),\n",
              " ('Race movie', 3),\n",
              " ('Point of view shot', 3),\n",
              " ('Bloopers & Candid Camera', 3),\n",
              " ('Camp', 3),\n",
              " ('Singing cowboy', 3),\n",
              " ('Film-Opera', 3),\n",
              " ('Education', 3),\n",
              " ('Journalism', 2),\n",
              " ('Historical Documentaries', 2),\n",
              " ('Star vehicle', 2),\n",
              " ('Anthropology', 2),\n",
              " ('Expressionism', 2),\n",
              " ('Revisionist Fairy Tale', 2),\n",
              " ('Period Horror', 2),\n",
              " ('Tokusatsu', 2),\n",
              " ('Private military company', 2),\n",
              " ('Beach Party film', 2),\n",
              " ('Z movie', 2),\n",
              " ('Revenge', 2),\n",
              " ('Conspiracy fiction', 2),\n",
              " ('Live action', 2),\n",
              " ('Prison escape', 2),\n",
              " ('The Netherlands in World War II', 2),\n",
              " ('Neorealism', 1),\n",
              " ('Homoeroticism', 1),\n",
              " (\"Children's Issues\", 1),\n",
              " ('Silhouette animation', 1),\n",
              " ('Statutory rape', 1),\n",
              " ('Comdedy', 1),\n",
              " ('Buddy Picture', 1),\n",
              " ('New Queer Cinema', 1),\n",
              " ('Chick flick', 1),\n",
              " ('Breakdance', 1),\n",
              " ('C-Movie', 1),\n",
              " ('Romantic thriller', 1),\n",
              " ('Linguistics', 1),\n",
              " ('Political Documetary', 1),\n",
              " ('Ninja movie', 1),\n",
              " ('Patriotic film', 1),\n",
              " ('War effort', 1)]"
            ]
          },
          "metadata": {
            "tags": []
          },
          "execution_count": 64
        }
      ]
    },
    {
      "cell_type": "code",
      "metadata": {
        "colab": {
          "base_uri": "https://localhost:8080/"
        },
        "id": "vP-paV5_U6lI",
        "outputId": "3721409f-3ed5-4568-8128-9c00b5928501"
      },
      "source": [
        "keep = [\"Drama\", \"Comedy\", \"Romance Film\", \"Thriller\", \"Action\", \"Crime Fiction\", \"Horror\", \"Adventure\", \"Family Film\", \"Science Fiction\"]\n",
        "lst = list(all_genres.keys())\n",
        "remove = [x for x in lst if x not in keep ]\n",
        "len(remove)"
      ],
      "execution_count": null,
      "outputs": [
        {
          "output_type": "execute_result",
          "data": {
            "text/plain": [
              "353"
            ]
          },
          "metadata": {
            "tags": []
          },
          "execution_count": 65
        }
      ]
    },
    {
      "cell_type": "code",
      "metadata": {
        "colab": {
          "base_uri": "https://localhost:8080/"
        },
        "id": "7FS17Ve6OGuW",
        "outputId": "ba92d058-5f4f-4c2b-c858-f8a5a6e4f4e7"
      },
      "source": [
        "def remove_genres(genres):\n",
        "    return [x for x in genres if x not in remove]\n",
        "\n",
        "movies[\"list_genres_consol\"] = movies[\"genres\"].apply(lambda row: remove_genres(row))\n",
        "len(movies)"
      ],
      "execution_count": null,
      "outputs": [
        {
          "output_type": "execute_result",
          "data": {
            "text/plain": [
              "41793"
            ]
          },
          "metadata": {
            "tags": []
          },
          "execution_count": 66
        }
      ]
    },
    {
      "cell_type": "code",
      "metadata": {
        "colab": {
          "base_uri": "https://localhost:8080/",
          "height": 227
        },
        "id": "hJj5LRA_2mVJ",
        "outputId": "7a83a1b4-a198-4393-d8ce-a2d37b6babd8"
      },
      "source": [
        "movies.head(3)"
      ],
      "execution_count": null,
      "outputs": [
        {
          "output_type": "execute_result",
          "data": {
            "text/html": [
              "<div>\n",
              "<style scoped>\n",
              "    .dataframe tbody tr th:only-of-type {\n",
              "        vertical-align: middle;\n",
              "    }\n",
              "\n",
              "    .dataframe tbody tr th {\n",
              "        vertical-align: top;\n",
              "    }\n",
              "\n",
              "    .dataframe thead th {\n",
              "        text-align: right;\n",
              "    }\n",
              "</style>\n",
              "<table border=\"1\" class=\"dataframe\">\n",
              "  <thead>\n",
              "    <tr style=\"text-align: right;\">\n",
              "      <th></th>\n",
              "      <th>movie_id</th>\n",
              "      <th>plots</th>\n",
              "      <th>movie_name</th>\n",
              "      <th>genres</th>\n",
              "      <th>list_genres_consol</th>\n",
              "    </tr>\n",
              "  </thead>\n",
              "  <tbody>\n",
              "    <tr>\n",
              "      <th>0</th>\n",
              "      <td>23890098</td>\n",
              "      <td>Shlykov, a hard-working taxi driver and Lyosha, a saxophonist, develop a bizarre love-hate relationship, and despite their prejudices, realize they aren't so different after all.</td>\n",
              "      <td>Taxi Blues</td>\n",
              "      <td>[Drama, World cinema]</td>\n",
              "      <td>[Drama]</td>\n",
              "    </tr>\n",
              "    <tr>\n",
              "      <th>1</th>\n",
              "      <td>31186339</td>\n",
              "      <td>The nation of Panem consists of a wealthy Capitol and twelve poorer districts. As punishment for a past rebellion, each district must provide a boy and girl  between the ages of 12 and 18 selected by lottery  for the annual Hunger Games. The tributes must fight to the death in an arena; the sole...</td>\n",
              "      <td>The Hunger Games</td>\n",
              "      <td>[Action/Adventure, Science Fiction, Action, Drama]</td>\n",
              "      <td>[Science Fiction, Action, Drama]</td>\n",
              "    </tr>\n",
              "    <tr>\n",
              "      <th>2</th>\n",
              "      <td>20663735</td>\n",
              "      <td>Poovalli Induchoodan  is sentenced for six years prison life for murdering his classmate. Induchoodan, the only son of Justice Maranchery Karunakara Menon  was framed in the case by Manapally Madhavan Nambiar  and his crony DYSP Sankaranarayanan  to take revenge on idealist judge Menon who had e...</td>\n",
              "      <td>Narasimham</td>\n",
              "      <td>[Musical, Action, Drama, Bollywood]</td>\n",
              "      <td>[Action, Drama]</td>\n",
              "    </tr>\n",
              "  </tbody>\n",
              "</table>\n",
              "</div>"
            ],
            "text/plain": [
              "   movie_id  ...                list_genres_consol\n",
              "0  23890098  ...                           [Drama]\n",
              "1  31186339  ...  [Science Fiction, Action, Drama]\n",
              "2  20663735  ...                   [Action, Drama]\n",
              "\n",
              "[3 rows x 5 columns]"
            ]
          },
          "metadata": {
            "tags": []
          },
          "execution_count": 67
        }
      ]
    },
    {
      "cell_type": "code",
      "metadata": {
        "colab": {
          "base_uri": "https://localhost:8080/",
          "height": 162
        },
        "id": "6MVD8kvS2iFj",
        "outputId": "ab8939b0-d669-4e6b-b533-7e1cd7d65528"
      },
      "source": [
        "movies = movies.explode(\"list_genres_consol\")\n",
        "movies = movies.reset_index(drop=True)\n",
        "movies.head(2)\n",
        "#movies.tail(10)"
      ],
      "execution_count": null,
      "outputs": [
        {
          "output_type": "execute_result",
          "data": {
            "text/html": [
              "<div>\n",
              "<style scoped>\n",
              "    .dataframe tbody tr th:only-of-type {\n",
              "        vertical-align: middle;\n",
              "    }\n",
              "\n",
              "    .dataframe tbody tr th {\n",
              "        vertical-align: top;\n",
              "    }\n",
              "\n",
              "    .dataframe thead th {\n",
              "        text-align: right;\n",
              "    }\n",
              "</style>\n",
              "<table border=\"1\" class=\"dataframe\">\n",
              "  <thead>\n",
              "    <tr style=\"text-align: right;\">\n",
              "      <th></th>\n",
              "      <th>movie_id</th>\n",
              "      <th>plots</th>\n",
              "      <th>movie_name</th>\n",
              "      <th>genres</th>\n",
              "      <th>list_genres_consol</th>\n",
              "    </tr>\n",
              "  </thead>\n",
              "  <tbody>\n",
              "    <tr>\n",
              "      <th>0</th>\n",
              "      <td>23890098</td>\n",
              "      <td>Shlykov, a hard-working taxi driver and Lyosha, a saxophonist, develop a bizarre love-hate relationship, and despite their prejudices, realize they aren't so different after all.</td>\n",
              "      <td>Taxi Blues</td>\n",
              "      <td>[Drama, World cinema]</td>\n",
              "      <td>Drama</td>\n",
              "    </tr>\n",
              "    <tr>\n",
              "      <th>1</th>\n",
              "      <td>31186339</td>\n",
              "      <td>The nation of Panem consists of a wealthy Capitol and twelve poorer districts. As punishment for a past rebellion, each district must provide a boy and girl  between the ages of 12 and 18 selected by lottery  for the annual Hunger Games. The tributes must fight to the death in an arena; the sole...</td>\n",
              "      <td>The Hunger Games</td>\n",
              "      <td>[Action/Adventure, Science Fiction, Action, Drama]</td>\n",
              "      <td>Science Fiction</td>\n",
              "    </tr>\n",
              "  </tbody>\n",
              "</table>\n",
              "</div>"
            ],
            "text/plain": [
              "   movie_id  ... list_genres_consol\n",
              "0  23890098  ...              Drama\n",
              "1  31186339  ...    Science Fiction\n",
              "\n",
              "[2 rows x 5 columns]"
            ]
          },
          "metadata": {
            "tags": []
          },
          "execution_count": 68
        }
      ]
    },
    {
      "cell_type": "code",
      "metadata": {
        "colab": {
          "base_uri": "https://localhost:8080/"
        },
        "id": "AJtcmYXIOa_s",
        "outputId": "ef774554-7330-4633-841d-2095b62722a8"
      },
      "source": [
        "movies = movies[movies.astype(str)[\"list_genres_consol\"] != \"[]\"]\n",
        "len(movies)"
      ],
      "execution_count": null,
      "outputs": [
        {
          "output_type": "execute_result",
          "data": {
            "text/plain": [
              "71571"
            ]
          },
          "metadata": {
            "tags": []
          },
          "execution_count": 69
        }
      ]
    },
    {
      "cell_type": "code",
      "metadata": {
        "colab": {
          "base_uri": "https://localhost:8080/",
          "height": 227
        },
        "id": "N6DzjBNpPB3E",
        "outputId": "f0196d71-5d74-438f-fcc3-20ad8647cd05"
      },
      "source": [
        "movies.head(3)"
      ],
      "execution_count": null,
      "outputs": [
        {
          "output_type": "execute_result",
          "data": {
            "text/html": [
              "<div>\n",
              "<style scoped>\n",
              "    .dataframe tbody tr th:only-of-type {\n",
              "        vertical-align: middle;\n",
              "    }\n",
              "\n",
              "    .dataframe tbody tr th {\n",
              "        vertical-align: top;\n",
              "    }\n",
              "\n",
              "    .dataframe thead th {\n",
              "        text-align: right;\n",
              "    }\n",
              "</style>\n",
              "<table border=\"1\" class=\"dataframe\">\n",
              "  <thead>\n",
              "    <tr style=\"text-align: right;\">\n",
              "      <th></th>\n",
              "      <th>movie_id</th>\n",
              "      <th>plots</th>\n",
              "      <th>movie_name</th>\n",
              "      <th>genres</th>\n",
              "      <th>list_genres_consol</th>\n",
              "    </tr>\n",
              "  </thead>\n",
              "  <tbody>\n",
              "    <tr>\n",
              "      <th>0</th>\n",
              "      <td>23890098</td>\n",
              "      <td>Shlykov, a hard-working taxi driver and Lyosha, a saxophonist, develop a bizarre love-hate relationship, and despite their prejudices, realize they aren't so different after all.</td>\n",
              "      <td>Taxi Blues</td>\n",
              "      <td>[Drama, World cinema]</td>\n",
              "      <td>Drama</td>\n",
              "    </tr>\n",
              "    <tr>\n",
              "      <th>1</th>\n",
              "      <td>31186339</td>\n",
              "      <td>The nation of Panem consists of a wealthy Capitol and twelve poorer districts. As punishment for a past rebellion, each district must provide a boy and girl  between the ages of 12 and 18 selected by lottery  for the annual Hunger Games. The tributes must fight to the death in an arena; the sole...</td>\n",
              "      <td>The Hunger Games</td>\n",
              "      <td>[Action/Adventure, Science Fiction, Action, Drama]</td>\n",
              "      <td>Science Fiction</td>\n",
              "    </tr>\n",
              "    <tr>\n",
              "      <th>2</th>\n",
              "      <td>31186339</td>\n",
              "      <td>The nation of Panem consists of a wealthy Capitol and twelve poorer districts. As punishment for a past rebellion, each district must provide a boy and girl  between the ages of 12 and 18 selected by lottery  for the annual Hunger Games. The tributes must fight to the death in an arena; the sole...</td>\n",
              "      <td>The Hunger Games</td>\n",
              "      <td>[Action/Adventure, Science Fiction, Action, Drama]</td>\n",
              "      <td>Action</td>\n",
              "    </tr>\n",
              "  </tbody>\n",
              "</table>\n",
              "</div>"
            ],
            "text/plain": [
              "   movie_id  ... list_genres_consol\n",
              "0  23890098  ...              Drama\n",
              "1  31186339  ...    Science Fiction\n",
              "2  31186339  ...             Action\n",
              "\n",
              "[3 rows x 5 columns]"
            ]
          },
          "metadata": {
            "tags": []
          },
          "execution_count": 70
        }
      ]
    },
    {
      "cell_type": "code",
      "metadata": {
        "id": "t7ycNKVGbFRS"
      },
      "source": [
        "#movies = movies.reset_index(drop=True)"
      ],
      "execution_count": null,
      "outputs": []
    },
    {
      "cell_type": "code",
      "metadata": {
        "colab": {
          "base_uri": "https://localhost:8080/",
          "height": 732
        },
        "id": "gU93FX2dUigr",
        "outputId": "1b4d7fcf-d4f6-4e3c-f951-e000a24035c3"
      },
      "source": [
        "for key in remove:\n",
        "    if key in count_dict:\n",
        "        del count_dict[key]\n",
        "\n",
        "for key,val in count_dict.items():\n",
        "    print(\"{:0.2f}% of the movies are {}\".format(100*val/len(movies), key))\n",
        "\n",
        "fig, ax = plt.subplots(1,1) \n",
        "ax.bar(range(len(count_dict.keys())), list(count_dict.values()))\n",
        "ax.set_xticks(range(len(count_dict.keys())))\n",
        "ax.set_xticklabels(list(count_dict.keys()), rotation='vertical', fontsize=18)"
      ],
      "execution_count": null,
      "outputs": [
        {
          "output_type": "stream",
          "text": [
            "26.73% of the movies are Drama\n",
            "3.27% of the movies are Science Fiction\n",
            "8.20% of the movies are Action\n",
            "14.62% of the movies are Comedy\n",
            "5.97% of the movies are Crime Fiction\n",
            "9.12% of the movies are Thriller\n",
            "5.70% of the movies are Horror\n",
            "9.31% of the movies are Romance Film\n",
            "4.50% of the movies are Family Film\n",
            "4.54% of the movies are Adventure\n"
          ],
          "name": "stdout"
        },
        {
          "output_type": "execute_result",
          "data": {
            "text/plain": [
              "[Text(0, 0, 'Drama'),\n",
              " Text(0, 0, 'Science Fiction'),\n",
              " Text(0, 0, 'Action'),\n",
              " Text(0, 0, 'Comedy'),\n",
              " Text(0, 0, 'Crime Fiction'),\n",
              " Text(0, 0, 'Thriller'),\n",
              " Text(0, 0, 'Horror'),\n",
              " Text(0, 0, 'Romance Film'),\n",
              " Text(0, 0, 'Family Film'),\n",
              " Text(0, 0, 'Adventure')]"
            ]
          },
          "metadata": {
            "tags": []
          },
          "execution_count": 72
        },
        {
          "output_type": "display_data",
          "data": {
            "image/png": "[encoded data removed]",
            "text/plain": [
              "<Figure size 432x288 with 1 Axes>"
            ]
          },
          "metadata": {
            "tags": [],
            "needs_background": "light"
          }
        }
      ]
    },
    {
      "cell_type": "code",
      "metadata": {
        "colab": {
          "base_uri": "https://localhost:8080/",
          "height": 357
        },
        "id": "hbO9rUOu319R",
        "outputId": "c6f38c3f-ab94-47f3-c17d-abaf64a1fac2"
      },
      "source": [
        "movies.head()"
      ],
      "execution_count": null,
      "outputs": [
        {
          "output_type": "execute_result",
          "data": {
            "text/html": [
              "<div>\n",
              "<style scoped>\n",
              "    .dataframe tbody tr th:only-of-type {\n",
              "        vertical-align: middle;\n",
              "    }\n",
              "\n",
              "    .dataframe tbody tr th {\n",
              "        vertical-align: top;\n",
              "    }\n",
              "\n",
              "    .dataframe thead th {\n",
              "        text-align: right;\n",
              "    }\n",
              "</style>\n",
              "<table border=\"1\" class=\"dataframe\">\n",
              "  <thead>\n",
              "    <tr style=\"text-align: right;\">\n",
              "      <th></th>\n",
              "      <th>movie_id</th>\n",
              "      <th>plots</th>\n",
              "      <th>movie_name</th>\n",
              "      <th>genres</th>\n",
              "      <th>list_genres_consol</th>\n",
              "    </tr>\n",
              "  </thead>\n",
              "  <tbody>\n",
              "    <tr>\n",
              "      <th>0</th>\n",
              "      <td>23890098</td>\n",
              "      <td>Shlykov, a hard-working taxi driver and Lyosha, a saxophonist, develop a bizarre love-hate relationship, and despite their prejudices, realize they aren't so different after all.</td>\n",
              "      <td>Taxi Blues</td>\n",
              "      <td>[Drama, World cinema]</td>\n",
              "      <td>Drama</td>\n",
              "    </tr>\n",
              "    <tr>\n",
              "      <th>1</th>\n",
              "      <td>31186339</td>\n",
              "      <td>The nation of Panem consists of a wealthy Capitol and twelve poorer districts. As punishment for a past rebellion, each district must provide a boy and girl  between the ages of 12 and 18 selected by lottery  for the annual Hunger Games. The tributes must fight to the death in an arena; the sole...</td>\n",
              "      <td>The Hunger Games</td>\n",
              "      <td>[Action/Adventure, Science Fiction, Action, Drama]</td>\n",
              "      <td>Science Fiction</td>\n",
              "    </tr>\n",
              "    <tr>\n",
              "      <th>2</th>\n",
              "      <td>31186339</td>\n",
              "      <td>The nation of Panem consists of a wealthy Capitol and twelve poorer districts. As punishment for a past rebellion, each district must provide a boy and girl  between the ages of 12 and 18 selected by lottery  for the annual Hunger Games. The tributes must fight to the death in an arena; the sole...</td>\n",
              "      <td>The Hunger Games</td>\n",
              "      <td>[Action/Adventure, Science Fiction, Action, Drama]</td>\n",
              "      <td>Action</td>\n",
              "    </tr>\n",
              "    <tr>\n",
              "      <th>3</th>\n",
              "      <td>31186339</td>\n",
              "      <td>The nation of Panem consists of a wealthy Capitol and twelve poorer districts. As punishment for a past rebellion, each district must provide a boy and girl  between the ages of 12 and 18 selected by lottery  for the annual Hunger Games. The tributes must fight to the death in an arena; the sole...</td>\n",
              "      <td>The Hunger Games</td>\n",
              "      <td>[Action/Adventure, Science Fiction, Action, Drama]</td>\n",
              "      <td>Drama</td>\n",
              "    </tr>\n",
              "    <tr>\n",
              "      <th>4</th>\n",
              "      <td>20663735</td>\n",
              "      <td>Poovalli Induchoodan  is sentenced for six years prison life for murdering his classmate. Induchoodan, the only son of Justice Maranchery Karunakara Menon  was framed in the case by Manapally Madhavan Nambiar  and his crony DYSP Sankaranarayanan  to take revenge on idealist judge Menon who had e...</td>\n",
              "      <td>Narasimham</td>\n",
              "      <td>[Musical, Action, Drama, Bollywood]</td>\n",
              "      <td>Action</td>\n",
              "    </tr>\n",
              "  </tbody>\n",
              "</table>\n",
              "</div>"
            ],
            "text/plain": [
              "   movie_id  ... list_genres_consol\n",
              "0  23890098  ...              Drama\n",
              "1  31186339  ...    Science Fiction\n",
              "2  31186339  ...             Action\n",
              "3  31186339  ...              Drama\n",
              "4  20663735  ...             Action\n",
              "\n",
              "[5 rows x 5 columns]"
            ]
          },
          "metadata": {
            "tags": []
          },
          "execution_count": 73
        }
      ]
    },
    {
      "cell_type": "code",
      "metadata": {
        "id": "F7VRzT-NUzws",
        "colab": {
          "base_uri": "https://localhost:8080/",
          "height": 162
        },
        "outputId": "b7ea11b7-2124-4899-fa6d-465c3fa09842"
      },
      "source": [
        "#copying movies \n",
        "trail1= movies\n",
        "trail1.head(2) \n"
      ],
      "execution_count": null,
      "outputs": [
        {
          "output_type": "execute_result",
          "data": {
            "text/html": [
              "<div>\n",
              "<style scoped>\n",
              "    .dataframe tbody tr th:only-of-type {\n",
              "        vertical-align: middle;\n",
              "    }\n",
              "\n",
              "    .dataframe tbody tr th {\n",
              "        vertical-align: top;\n",
              "    }\n",
              "\n",
              "    .dataframe thead th {\n",
              "        text-align: right;\n",
              "    }\n",
              "</style>\n",
              "<table border=\"1\" class=\"dataframe\">\n",
              "  <thead>\n",
              "    <tr style=\"text-align: right;\">\n",
              "      <th></th>\n",
              "      <th>movie_id</th>\n",
              "      <th>plots</th>\n",
              "      <th>movie_name</th>\n",
              "      <th>genres</th>\n",
              "      <th>list_genres_consol</th>\n",
              "    </tr>\n",
              "  </thead>\n",
              "  <tbody>\n",
              "    <tr>\n",
              "      <th>0</th>\n",
              "      <td>23890098</td>\n",
              "      <td>Shlykov, a hard-working taxi driver and Lyosha, a saxophonist, develop a bizarre love-hate relationship, and despite their prejudices, realize they aren't so different after all.</td>\n",
              "      <td>Taxi Blues</td>\n",
              "      <td>[Drama, World cinema]</td>\n",
              "      <td>Drama</td>\n",
              "    </tr>\n",
              "    <tr>\n",
              "      <th>1</th>\n",
              "      <td>31186339</td>\n",
              "      <td>The nation of Panem consists of a wealthy Capitol and twelve poorer districts. As punishment for a past rebellion, each district must provide a boy and girl  between the ages of 12 and 18 selected by lottery  for the annual Hunger Games. The tributes must fight to the death in an arena; the sole...</td>\n",
              "      <td>The Hunger Games</td>\n",
              "      <td>[Action/Adventure, Science Fiction, Action, Drama]</td>\n",
              "      <td>Science Fiction</td>\n",
              "    </tr>\n",
              "  </tbody>\n",
              "</table>\n",
              "</div>"
            ],
            "text/plain": [
              "   movie_id  ... list_genres_consol\n",
              "0  23890098  ...              Drama\n",
              "1  31186339  ...    Science Fiction\n",
              "\n",
              "[2 rows x 5 columns]"
            ]
          },
          "metadata": {
            "tags": []
          },
          "execution_count": 74
        }
      ]
    },
    {
      "cell_type": "code",
      "metadata": {
        "id": "5bVxeikA40sm"
      },
      "source": [
        "del trail1['movie_id']\n",
        "del trail1['genres']"
      ],
      "execution_count": null,
      "outputs": []
    },
    {
      "cell_type": "code",
      "metadata": {
        "colab": {
          "base_uri": "https://localhost:8080/",
          "height": 241
        },
        "id": "cVQKU-qGs6go",
        "outputId": "6a255f3c-3fc4-4fe4-f76d-5735c1e350e5"
      },
      "source": [
        "trail1.columns = [\"plots\", \"movie_name\", \"genres\"]\n",
        "trail1.head(4) "
      ],
      "execution_count": null,
      "outputs": [
        {
          "output_type": "execute_result",
          "data": {
            "text/html": [
              "<div>\n",
              "<style scoped>\n",
              "    .dataframe tbody tr th:only-of-type {\n",
              "        vertical-align: middle;\n",
              "    }\n",
              "\n",
              "    .dataframe tbody tr th {\n",
              "        vertical-align: top;\n",
              "    }\n",
              "\n",
              "    .dataframe thead th {\n",
              "        text-align: right;\n",
              "    }\n",
              "</style>\n",
              "<table border=\"1\" class=\"dataframe\">\n",
              "  <thead>\n",
              "    <tr style=\"text-align: right;\">\n",
              "      <th></th>\n",
              "      <th>plots</th>\n",
              "      <th>movie_name</th>\n",
              "      <th>genres</th>\n",
              "    </tr>\n",
              "  </thead>\n",
              "  <tbody>\n",
              "    <tr>\n",
              "      <th>0</th>\n",
              "      <td>Shlykov, a hard-working taxi driver and Lyosha, a saxophonist, develop a bizarre love-hate relationship, and despite their prejudices, realize they aren't so different after all.</td>\n",
              "      <td>Taxi Blues</td>\n",
              "      <td>Drama</td>\n",
              "    </tr>\n",
              "    <tr>\n",
              "      <th>1</th>\n",
              "      <td>The nation of Panem consists of a wealthy Capitol and twelve poorer districts. As punishment for a past rebellion, each district must provide a boy and girl  between the ages of 12 and 18 selected by lottery  for the annual Hunger Games. The tributes must fight to the death in an arena; the sole...</td>\n",
              "      <td>The Hunger Games</td>\n",
              "      <td>Science Fiction</td>\n",
              "    </tr>\n",
              "    <tr>\n",
              "      <th>2</th>\n",
              "      <td>The nation of Panem consists of a wealthy Capitol and twelve poorer districts. As punishment for a past rebellion, each district must provide a boy and girl  between the ages of 12 and 18 selected by lottery  for the annual Hunger Games. The tributes must fight to the death in an arena; the sole...</td>\n",
              "      <td>The Hunger Games</td>\n",
              "      <td>Action</td>\n",
              "    </tr>\n",
              "    <tr>\n",
              "      <th>3</th>\n",
              "      <td>The nation of Panem consists of a wealthy Capitol and twelve poorer districts. As punishment for a past rebellion, each district must provide a boy and girl  between the ages of 12 and 18 selected by lottery  for the annual Hunger Games. The tributes must fight to the death in an arena; the sole...</td>\n",
              "      <td>The Hunger Games</td>\n",
              "      <td>Drama</td>\n",
              "    </tr>\n",
              "  </tbody>\n",
              "</table>\n",
              "</div>"
            ],
            "text/plain": [
              "                                                                                                                                                                                                                                                                                                         plots  ...           genres\n",
              "0                                                                                                                           Shlykov, a hard-working taxi driver and Lyosha, a saxophonist, develop a bizarre love-hate relationship, and despite their prejudices, realize they aren't so different after all.  ...            Drama\n",
              "1  The nation of Panem consists of a wealthy Capitol and twelve poorer districts. As punishment for a past rebellion, each district must provide a boy and girl  between the ages of 12 and 18 selected by lottery  for the annual Hunger Games. The tributes must fight to the death in an arena; the sole...  ...  Science Fiction\n",
              "2  The nation of Panem consists of a wealthy Capitol and twelve poorer districts. As punishment for a past rebellion, each district must provide a boy and girl  between the ages of 12 and 18 selected by lottery  for the annual Hunger Games. The tributes must fight to the death in an arena; the sole...  ...           Action\n",
              "3  The nation of Panem consists of a wealthy Capitol and twelve poorer districts. As punishment for a past rebellion, each district must provide a boy and girl  between the ages of 12 and 18 selected by lottery  for the annual Hunger Games. The tributes must fight to the death in an arena; the sole...  ...            Drama\n",
              "\n",
              "[4 rows x 3 columns]"
            ]
          },
          "metadata": {
            "tags": []
          },
          "execution_count": 76
        }
      ]
    },
    {
      "cell_type": "code",
      "metadata": {
        "colab": {
          "base_uri": "https://localhost:8080/",
          "height": 289
        },
        "id": "ZF8geN5oIUQ_",
        "outputId": "43b0ddc4-16a2-4238-8997-c3fe585e4700"
      },
      "source": [
        "trail2 = trail1\n",
        "trail2.head()"
      ],
      "execution_count": null,
      "outputs": [
        {
          "output_type": "execute_result",
          "data": {
            "text/html": [
              "<div>\n",
              "<style scoped>\n",
              "    .dataframe tbody tr th:only-of-type {\n",
              "        vertical-align: middle;\n",
              "    }\n",
              "\n",
              "    .dataframe tbody tr th {\n",
              "        vertical-align: top;\n",
              "    }\n",
              "\n",
              "    .dataframe thead th {\n",
              "        text-align: right;\n",
              "    }\n",
              "</style>\n",
              "<table border=\"1\" class=\"dataframe\">\n",
              "  <thead>\n",
              "    <tr style=\"text-align: right;\">\n",
              "      <th></th>\n",
              "      <th>plots</th>\n",
              "      <th>movie_name</th>\n",
              "      <th>genres</th>\n",
              "    </tr>\n",
              "  </thead>\n",
              "  <tbody>\n",
              "    <tr>\n",
              "      <th>0</th>\n",
              "      <td>Shlykov, a hard-working taxi driver and Lyosha, a saxophonist, develop a bizarre love-hate relationship, and despite their prejudices, realize they aren't so different after all.</td>\n",
              "      <td>Taxi Blues</td>\n",
              "      <td>Drama</td>\n",
              "    </tr>\n",
              "    <tr>\n",
              "      <th>1</th>\n",
              "      <td>Shlykov, a hard-working taxi driver and Lyosha, a saxophonist, develop a bizarre love-hate relationship, and despite their prejudices, realize they aren't so different after all.</td>\n",
              "      <td>Taxi Blues</td>\n",
              "      <td>World cinema</td>\n",
              "    </tr>\n",
              "    <tr>\n",
              "      <th>2</th>\n",
              "      <td>The nation of Panem consists of a wealthy Capitol and twelve poorer districts. As punishment for a past rebellion, each district must provide a boy and girl  between the ages of 12 and 18 selected by lottery  for the annual Hunger Games. The tributes must fight to the death in an arena; the sole...</td>\n",
              "      <td>The Hunger Games</td>\n",
              "      <td>Action/Adventure</td>\n",
              "    </tr>\n",
              "    <tr>\n",
              "      <th>3</th>\n",
              "      <td>The nation of Panem consists of a wealthy Capitol and twelve poorer districts. As punishment for a past rebellion, each district must provide a boy and girl  between the ages of 12 and 18 selected by lottery  for the annual Hunger Games. The tributes must fight to the death in an arena; the sole...</td>\n",
              "      <td>The Hunger Games</td>\n",
              "      <td>Science Fiction</td>\n",
              "    </tr>\n",
              "    <tr>\n",
              "      <th>4</th>\n",
              "      <td>The nation of Panem consists of a wealthy Capitol and twelve poorer districts. As punishment for a past rebellion, each district must provide a boy and girl  between the ages of 12 and 18 selected by lottery  for the annual Hunger Games. The tributes must fight to the death in an arena; the sole...</td>\n",
              "      <td>The Hunger Games</td>\n",
              "      <td>Action</td>\n",
              "    </tr>\n",
              "  </tbody>\n",
              "</table>\n",
              "</div>"
            ],
            "text/plain": [
              "                                                                                                                                                                                                                                                                                                         plots  ...            genres\n",
              "0                                                                                                                           Shlykov, a hard-working taxi driver and Lyosha, a saxophonist, develop a bizarre love-hate relationship, and despite their prejudices, realize they aren't so different after all.  ...             Drama\n",
              "1                                                                                                                           Shlykov, a hard-working taxi driver and Lyosha, a saxophonist, develop a bizarre love-hate relationship, and despite their prejudices, realize they aren't so different after all.  ...      World cinema\n",
              "2  The nation of Panem consists of a wealthy Capitol and twelve poorer districts. As punishment for a past rebellion, each district must provide a boy and girl  between the ages of 12 and 18 selected by lottery  for the annual Hunger Games. The tributes must fight to the death in an arena; the sole...  ...  Action/Adventure\n",
              "3  The nation of Panem consists of a wealthy Capitol and twelve poorer districts. As punishment for a past rebellion, each district must provide a boy and girl  between the ages of 12 and 18 selected by lottery  for the annual Hunger Games. The tributes must fight to the death in an arena; the sole...  ...   Science Fiction\n",
              "4  The nation of Panem consists of a wealthy Capitol and twelve poorer districts. As punishment for a past rebellion, each district must provide a boy and girl  between the ages of 12 and 18 selected by lottery  for the annual Hunger Games. The tributes must fight to the death in an arena; the sole...  ...            Action\n",
              "\n",
              "[5 rows x 3 columns]"
            ]
          },
          "metadata": {
            "tags": []
          },
          "execution_count": 135
        }
      ]
    },
    {
      "cell_type": "code",
      "metadata": {
        "id": "ndhiD_2XCmky"
      },
      "source": [
        ""
      ],
      "execution_count": null,
      "outputs": []
    }
  ]
}